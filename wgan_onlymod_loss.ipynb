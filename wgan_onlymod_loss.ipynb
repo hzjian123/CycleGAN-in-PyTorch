{
 "cells": [
  {
   "cell_type": "code",
   "execution_count": 1,
   "id": "63c1d209",
   "metadata": {},
   "outputs": [
    {
     "name": "stderr",
     "output_type": "stream",
     "text": [
      "c:\\Users\\Eachann\\AppData\\Local\\Programs\\Python\\Python39\\lib\\site-packages\\tqdm\\auto.py:22: TqdmWarning: IProgress not found. Please update jupyter and ipywidgets. See https://ipywidgets.readthedocs.io/en/stable/user_install.html\n",
      "  from .autonotebook import tqdm as notebook_tqdm\n"
     ]
    }
   ],
   "source": [
    "import os\n",
    "import cv2\n",
    "import sys\n",
    "import matplotlib.pyplot as plt\n",
    "import glob\n",
    "import itertools\n",
    "import random\n",
    "import numpy as np\n",
    "import torch\n",
    "import time\n",
    "import torch.nn as nn\n",
    "import torch.backends.cudnn as cudnn\n",
    "import torch.optim as optim\n",
    "from torch.utils.data import Dataset\n",
    "from torch.utils.data import DataLoader\n",
    "from tqdm import tqdm\n",
    "import torchvision.transforms as transforms\n",
    "from PIL import Image\n",
    "import torch.nn.functional as F\n",
    "from model import *"
   ]
  },
  {
   "cell_type": "code",
   "execution_count": 2,
   "id": "f5aa57f3",
   "metadata": {},
   "outputs": [],
   "source": [
    "batch_size = 3\n",
    "lr=0.0002#2e-6 to 2e-8\n",
    "num_epoch = 10\n",
    "decay_epochs = 0\n",
    "roots = 'data/uki'\n",
    "dataname = 'uki'"
   ]
  },
  {
   "cell_type": "code",
   "execution_count": 3,
   "id": "02d3bcc3",
   "metadata": {},
   "outputs": [],
   "source": [
    "def remove_images_from_folder(folder):\n",
    "    images = []\n",
    "    for filename in os.listdir(folder):\n",
    "        #print(filename)\n",
    "        img = plt.imread(os.path.join(folder,filename))\n",
    "        images.append(img)\n",
    "        if len(img.shape)!=3:\n",
    "            print(folder+filename,img.shape)\n",
    "            os.remove(folder+'/'+filename)\n",
    "            print('delete W&B image',folder+'/'+filename)\n",
    "    img_size = img.shape[1]\n",
    "    return img_size\n",
    "direc = 'data/horse2zebra/train/B'\n",
    "img_shape = remove_images_from_folder(direc)\n",
    "#print(len(imgs),img_shape)\n",
    "#print([i.shape for i in imgs if i.shape!=(256,256,3)])"
   ]
  },
  {
   "cell_type": "code",
   "execution_count": 4,
   "id": "20bcef44",
   "metadata": {},
   "outputs": [],
   "source": [
    "class Dataset(Dataset):\n",
    "    def __init__(self, root, transform=None, unaligned=False, mode=\"train\"):\n",
    "        self.f_A = sorted(glob.glob(os.path.join(root, f\"{mode}/A\") + \"/*.*\"))\n",
    "        #print(self._A)\n",
    "        self.f_B = sorted(glob.glob(os.path.join(root, f\"{mode}/B\") + \"/*.*\"))\n",
    "        self.transform = transform\n",
    "        self.unaligned = unaligned\n",
    "\n",
    "    def __getitem__(self, index):\n",
    "        A = self.transform(Image.open(self.f_A[index % len(self.f_A)]))\n",
    "\n",
    "        if self.unaligned:\n",
    "            B = self.transform(Image.open(self.f_B[random.randint(0, len(self.f_B) - 1)]))\n",
    "        else:\n",
    "            B = self.transform(Image.open(self.f_B[index % len(self.f_B)]))\n",
    "\n",
    "        return {\"A\": A, \"B\": B}\n",
    "\n",
    "    def __len__(self):\n",
    "        return max(len(self.f_A), len(self.f_B))"
   ]
  },
  {
   "cell_type": "code",
   "execution_count": 5,
   "id": "d0d30a61",
   "metadata": {},
   "outputs": [],
   "source": [
    "dataset = Dataset(root=roots,\n",
    "                       transform=transforms.Compose([\n",
    "                           transforms.Resize(int(img_shape * 1.12), transforms.InterpolationMode.BICUBIC),\n",
    "                           transforms.RandomCrop(img_shape),\n",
    "                           transforms.RandomHorizontalFlip(),\n",
    "                           transforms.ToTensor(),\n",
    "                           transforms.Normalize((0.5, 0.5, 0.5), (0.5, 0.5, 0.5))\n",
    "                       ]),\n",
    "                           unaligned=True)\n",
    "dataloader = torch.utils.data.DataLoader(dataset, batch_size=batch_size, shuffle=True, pin_memory=True)"
   ]
  },
  {
   "cell_type": "code",
   "execution_count": 6,
   "id": "60e1625c",
   "metadata": {},
   "outputs": [
    {
     "name": "stdout",
     "output_type": "stream",
     "text": [
      "cuda:0\n"
     ]
    }
   ],
   "source": [
    "random.seed(random.randint(1, 10000))\n",
    "torch.manual_seed(random.randint(1, 10000))\n",
    "device = torch.device(\"cuda:0\" if torch.cuda.is_available() else \"cpu\")\n",
    "torch.cuda.empty_cache()\n",
    "print(device)"
   ]
  },
  {
   "cell_type": "code",
   "execution_count": null,
   "id": "38b8a149",
   "metadata": {},
   "outputs": [],
   "source": []
  },
  {
   "cell_type": "code",
   "execution_count": 7,
   "id": "95c2b259",
   "metadata": {},
   "outputs": [],
   "source": [
    "def weights_init(m):\n",
    "    classname = m.__class__.__name__\n",
    "    if classname.find(\"Conv\") != -1:\n",
    "        torch.nn.init.normal_(m.weight, 0.0, 0.02)\n",
    "    elif classname.find(\"BatchNorm\") != -1:\n",
    "        torch.nn.init.normal_(m.weight, 1.0, 0.02)\n",
    "        torch.nn.init.zeros_(m.bias)\n"
   ]
  },
  {
   "cell_type": "code",
   "execution_count": 8,
   "id": "e33f0cbf",
   "metadata": {
    "scrolled": true
   },
   "outputs": [
    {
     "name": "stdout",
     "output_type": "stream",
     "text": [
      "init finish\n"
     ]
    }
   ],
   "source": [
    "netG_A2B = Generator().to(device)\n",
    "netG_B2A = Generator().to(device)\n",
    "netD_A = Discriminator().to(device)\n",
    "netD_B = Discriminator().to(device)\n",
    "\n",
    "netG_A2B.apply(weights_init)\n",
    "netG_B2A.apply(weights_init)\n",
    "netD_A.apply(weights_init)\n",
    "netD_B.apply(weights_init)\n",
    "print(\"init finish\")"
   ]
  },
  {
   "cell_type": "code",
   "execution_count": 9,
   "id": "627e8339",
   "metadata": {},
   "outputs": [
    {
     "name": "stdout",
     "output_type": "stream",
     "text": [
      "Optimizer and loss\n"
     ]
    }
   ],
   "source": [
    "def wgan_loss_cycle(output, target):\n",
    "    loss = torch.abs(torch.mean(output*target))\n",
    "    return loss\n",
    "def wgan_loss_iden(output, target):\n",
    "    loss = torch.abs(torch.mean(output*target))\n",
    "    return loss\n",
    "#cycle_loss = torch.nn.L1Loss().to(device)\n",
    "#iden_loss = torch.nn.L1Loss().to(device)\n",
    "adv_loss = torch.nn.MSELoss().to(device)\n",
    "optimizer_G = torch.optim.Adam(itertools.chain(netG_A2B.parameters(), netG_B2A.parameters()),\n",
    "lr=lr, betas=(0.5, 0.999))\n",
    "optimizer_D_A = torch.optim.Adam(netD_A.parameters(), lr=lr, betas=(0.5, 0.999))\n",
    "optimizer_D_B = torch.optim.Adam(netD_B.parameters(), lr=lr, betas=(0.5, 0.999))\n",
    "print('Optimizer and loss')\n"
   ]
  },
  {
   "cell_type": "code",
   "execution_count": 10,
   "id": "6d9b9c60",
   "metadata": {},
   "outputs": [],
   "source": [
    "class DecayLR:\n",
    "    def __init__(self, epochs,decay_epochs):\n",
    "        assert (epochs - decay_epochs> 0)\n",
    "        self.epochs = epochs\n",
    "        self.decay_epochs = decay_epochs\n",
    "    def step(self, epoch):\n",
    "        return 1.0 - max(0, epoch  - self.decay_epochs) / (\n",
    "                self.epochs - self.decay_epochs)\n"
   ]
  },
  {
   "cell_type": "code",
   "execution_count": 11,
   "id": "4f4233d2",
   "metadata": {},
   "outputs": [],
   "source": [
    "class ReplayBuffer:\n",
    "    def __init__(self, max_size=50):\n",
    "        assert (max_size > 0), \"Empty buffer or trying to create a black hole. Be careful.\"\n",
    "        self.max_size = max_size\n",
    "        self.data = []\n",
    "\n",
    "    def push_and_pop(self, data):\n",
    "        to_return = []\n",
    "        for element in data.data:\n",
    "            element = torch.unsqueeze(element, 0)\n",
    "            if len(self.data) < self.max_size:\n",
    "                self.data.append(element)\n",
    "                to_return.append(element)\n",
    "            else:\n",
    "                if random.uniform(0, 1) > 0.5:\n",
    "                    i = random.randint(0, self.max_size - 1)\n",
    "                    to_return.append(self.data[i].clone())\n",
    "                    self.data[i] = element\n",
    "                else:\n",
    "                    to_return.append(element)\n",
    "        return torch.cat(to_return)"
   ]
  },
  {
   "cell_type": "code",
   "execution_count": 12,
   "id": "7986641b",
   "metadata": {},
   "outputs": [],
   "source": [
    "lr_lambda = DecayLR(num_epoch,decay_epochs).step\n",
    "lr_scheduler_G = torch.optim.lr_scheduler.LambdaLR(optimizer_G, lr_lambda=lr_lambda)\n",
    "lr_scheduler_D_A = torch.optim.lr_scheduler.LambdaLR(optimizer_D_A, lr_lambda=lr_lambda)\n",
    "lr_scheduler_D_B = torch.optim.lr_scheduler.LambdaLR(optimizer_D_B, lr_lambda=lr_lambda)"
   ]
  },
  {
   "cell_type": "code",
   "execution_count": 13,
   "id": "a40ff329",
   "metadata": {},
   "outputs": [],
   "source": [
    "g_losses = []\n",
    "d_losses = []\n",
    "identity_losses = []\n",
    "gan_losses = []\n",
    "cycle_losses = []\n",
    "fake_A_buffer = ReplayBuffer()\n",
    "fake_B_buffer = ReplayBuffer()"
   ]
  },
  {
   "cell_type": "code",
   "execution_count": 14,
   "id": "acaa9183",
   "metadata": {},
   "outputs": [
    {
     "name": "stderr",
     "output_type": "stream",
     "text": [
      "[0/9][1066/1066] Loss_D: 0.2094 Loss_G: 1.9244 Loss_G_identity: 0.1542 loss_G_GAN: 1.5997 loss_G_cycle: 0.1705time564.2075524330139: : 1067it [09:24,  1.89it/s]\n",
      "[1/9][1066/1066] Loss_D: 0.1986 Loss_G: 1.7894 Loss_G_identity: 0.3649 loss_G_GAN: 0.7963 loss_G_cycle: 0.6282time518.8833165168762: : 1067it [08:38,  2.06it/s] \n",
      "[2/9][1066/1066] Loss_D: 0.4324 Loss_G: 2.3046 Loss_G_identity: 0.1492 loss_G_GAN: 1.8039 loss_G_cycle: 0.3514time516.4303095340729: : 1067it [08:36,  2.07it/s] \n",
      "[3/9][1066/1066] Loss_D: 0.2092 Loss_G: 1.8169 Loss_G_identity: 0.0979 loss_G_GAN: 1.5619 loss_G_cycle: 0.1570time514.2021462917328: : 1067it [08:34,  2.08it/s] \n",
      "[4/9][1066/1066] Loss_D: 0.1995 Loss_G: 1.4995 Loss_G_identity: 0.1391 loss_G_GAN: 0.7921 loss_G_cycle: 0.5683time513.6677587032318: : 1067it [08:33,  2.08it/s] \n",
      "[5/9][1066/1066] Loss_D: 0.1077 Loss_G: 1.7369 Loss_G_identity: 0.3604 loss_G_GAN: 0.9605 loss_G_cycle: 0.4160time513.6935179233551: : 1067it [08:33,  2.08it/s] \n",
      "[6/9][1066/1066] Loss_D: 0.0929 Loss_G: 1.0456 Loss_G_identity: 0.0924 loss_G_GAN: 0.5612 loss_G_cycle: 0.3920time513.9482498168945: : 1067it [08:33,  2.08it/s] \n",
      "[7/9][1066/1066] Loss_D: 0.0981 Loss_G: 1.7018 Loss_G_identity: 0.1059 loss_G_GAN: 1.2244 loss_G_cycle: 0.3715time515.1250751018524: : 1067it [08:35,  2.07it/s] \n",
      "[8/9][1066/1066] Loss_D: 0.1167 Loss_G: 1.9521 Loss_G_identity: 0.0864 loss_G_GAN: 1.6075 loss_G_cycle: 0.2583time516.9655473232269: : 1067it [08:36,  2.06it/s] \n",
      "[9/9][1066/1066] Loss_D: 0.1968 Loss_G: 1.2299 Loss_G_identity: 0.1521 loss_G_GAN: 0.8172 loss_G_cycle: 0.2606time529.0420460700989: : 1067it [08:49,  2.02it/s] \n"
     ]
    },
    {
     "ename": "OSError",
     "evalue": "[Errno 22] Invalid argument: 'weights/<__main__.Dataset object at 0x000001B242C0FCD0>/netG_A2B.pth'",
     "output_type": "error",
     "traceback": [
      "\u001b[1;31m---------------------------------------------------------------------------\u001b[0m",
      "\u001b[1;31mOSError\u001b[0m                                   Traceback (most recent call last)",
      "\u001b[1;32mc:\\Users\\Eachann\\Desktop\\cycle2\\wgan2.ipynb Cell 15'\u001b[0m in \u001b[0;36m<cell line: 100>\u001b[1;34m()\u001b[0m\n\u001b[0;32m     <a href='vscode-notebook-cell:/c%3A/Users/Eachann/Desktop/cycle2/wgan2.ipynb#ch0000014?line=97'>98</a>\u001b[0m np\u001b[39m.\u001b[39msave(\u001b[39m'\u001b[39m\u001b[39mcycle_losses.npy\u001b[39m\u001b[39m'\u001b[39m,cycle_losses)\n\u001b[0;32m     <a href='vscode-notebook-cell:/c%3A/Users/Eachann/Desktop/cycle2/wgan2.ipynb#ch0000014?line=98'>99</a>\u001b[0m \u001b[39m# save last check pointing\u001b[39;00m\n\u001b[1;32m--> <a href='vscode-notebook-cell:/c%3A/Users/Eachann/Desktop/cycle2/wgan2.ipynb#ch0000014?line=99'>100</a>\u001b[0m torch\u001b[39m.\u001b[39;49msave(netG_A2B\u001b[39m.\u001b[39;49mstate_dict(), \u001b[39mf\u001b[39;49m\u001b[39m\"\u001b[39;49m\u001b[39mweights/\u001b[39;49m\u001b[39m{\u001b[39;49;00mdataset\u001b[39m}\u001b[39;49;00m\u001b[39m/netG_A2B.pth\u001b[39;49m\u001b[39m\"\u001b[39;49m)\n\u001b[0;32m    <a href='vscode-notebook-cell:/c%3A/Users/Eachann/Desktop/cycle2/wgan2.ipynb#ch0000014?line=100'>101</a>\u001b[0m torch\u001b[39m.\u001b[39msave(netG_B2A\u001b[39m.\u001b[39mstate_dict(), \u001b[39mf\u001b[39m\u001b[39m\"\u001b[39m\u001b[39mweights/\u001b[39m\u001b[39m{\u001b[39;00mdataset\u001b[39m}\u001b[39;00m\u001b[39m/netG_B2A.pth\u001b[39m\u001b[39m\"\u001b[39m)\n\u001b[0;32m    <a href='vscode-notebook-cell:/c%3A/Users/Eachann/Desktop/cycle2/wgan2.ipynb#ch0000014?line=101'>102</a>\u001b[0m torch\u001b[39m.\u001b[39msave(netD_A\u001b[39m.\u001b[39mstate_dict(), \u001b[39mf\u001b[39m\u001b[39m\"\u001b[39m\u001b[39mweights/\u001b[39m\u001b[39m{\u001b[39;00mdataset\u001b[39m}\u001b[39;00m\u001b[39m/netD_A.pth\u001b[39m\u001b[39m\"\u001b[39m)\n",
      "File \u001b[1;32mc:\\Users\\Eachann\\AppData\\Local\\Programs\\Python\\Python39\\lib\\site-packages\\torch\\serialization.py:377\u001b[0m, in \u001b[0;36msave\u001b[1;34m(obj, f, pickle_module, pickle_protocol, _use_new_zipfile_serialization)\u001b[0m\n\u001b[0;32m    <a href='file:///c%3A/Users/Eachann/AppData/Local/Programs/Python/Python39/lib/site-packages/torch/serialization.py?line=340'>341</a>\u001b[0m \u001b[39m\"\"\"save(obj, f, pickle_module=pickle, pickle_protocol=DEFAULT_PROTOCOL, _use_new_zipfile_serialization=True)\u001b[39;00m\n\u001b[0;32m    <a href='file:///c%3A/Users/Eachann/AppData/Local/Programs/Python/Python39/lib/site-packages/torch/serialization.py?line=341'>342</a>\u001b[0m \n\u001b[0;32m    <a href='file:///c%3A/Users/Eachann/AppData/Local/Programs/Python/Python39/lib/site-packages/torch/serialization.py?line=342'>343</a>\u001b[0m \u001b[39mSaves an object to a disk file.\u001b[39;00m\n\u001b[1;32m   (...)\u001b[0m\n\u001b[0;32m    <a href='file:///c%3A/Users/Eachann/AppData/Local/Programs/Python/Python39/lib/site-packages/torch/serialization.py?line=372'>373</a>\u001b[0m \u001b[39m    >>> torch.save(x, buffer)\u001b[39;00m\n\u001b[0;32m    <a href='file:///c%3A/Users/Eachann/AppData/Local/Programs/Python/Python39/lib/site-packages/torch/serialization.py?line=373'>374</a>\u001b[0m \u001b[39m\"\"\"\u001b[39;00m\n\u001b[0;32m    <a href='file:///c%3A/Users/Eachann/AppData/Local/Programs/Python/Python39/lib/site-packages/torch/serialization.py?line=374'>375</a>\u001b[0m _check_dill_version(pickle_module)\n\u001b[1;32m--> <a href='file:///c%3A/Users/Eachann/AppData/Local/Programs/Python/Python39/lib/site-packages/torch/serialization.py?line=376'>377</a>\u001b[0m \u001b[39mwith\u001b[39;00m _open_file_like(f, \u001b[39m'\u001b[39;49m\u001b[39mwb\u001b[39;49m\u001b[39m'\u001b[39;49m) \u001b[39mas\u001b[39;00m opened_file:\n\u001b[0;32m    <a href='file:///c%3A/Users/Eachann/AppData/Local/Programs/Python/Python39/lib/site-packages/torch/serialization.py?line=377'>378</a>\u001b[0m     \u001b[39mif\u001b[39;00m _use_new_zipfile_serialization:\n\u001b[0;32m    <a href='file:///c%3A/Users/Eachann/AppData/Local/Programs/Python/Python39/lib/site-packages/torch/serialization.py?line=378'>379</a>\u001b[0m         \u001b[39mwith\u001b[39;00m _open_zipfile_writer(opened_file) \u001b[39mas\u001b[39;00m opened_zipfile:\n",
      "File \u001b[1;32mc:\\Users\\Eachann\\AppData\\Local\\Programs\\Python\\Python39\\lib\\site-packages\\torch\\serialization.py:231\u001b[0m, in \u001b[0;36m_open_file_like\u001b[1;34m(name_or_buffer, mode)\u001b[0m\n\u001b[0;32m    <a href='file:///c%3A/Users/Eachann/AppData/Local/Programs/Python/Python39/lib/site-packages/torch/serialization.py?line=228'>229</a>\u001b[0m \u001b[39mdef\u001b[39;00m \u001b[39m_open_file_like\u001b[39m(name_or_buffer, mode):\n\u001b[0;32m    <a href='file:///c%3A/Users/Eachann/AppData/Local/Programs/Python/Python39/lib/site-packages/torch/serialization.py?line=229'>230</a>\u001b[0m     \u001b[39mif\u001b[39;00m _is_path(name_or_buffer):\n\u001b[1;32m--> <a href='file:///c%3A/Users/Eachann/AppData/Local/Programs/Python/Python39/lib/site-packages/torch/serialization.py?line=230'>231</a>\u001b[0m         \u001b[39mreturn\u001b[39;00m _open_file(name_or_buffer, mode)\n\u001b[0;32m    <a href='file:///c%3A/Users/Eachann/AppData/Local/Programs/Python/Python39/lib/site-packages/torch/serialization.py?line=231'>232</a>\u001b[0m     \u001b[39melse\u001b[39;00m:\n\u001b[0;32m    <a href='file:///c%3A/Users/Eachann/AppData/Local/Programs/Python/Python39/lib/site-packages/torch/serialization.py?line=232'>233</a>\u001b[0m         \u001b[39mif\u001b[39;00m \u001b[39m'\u001b[39m\u001b[39mw\u001b[39m\u001b[39m'\u001b[39m \u001b[39min\u001b[39;00m mode:\n",
      "File \u001b[1;32mc:\\Users\\Eachann\\AppData\\Local\\Programs\\Python\\Python39\\lib\\site-packages\\torch\\serialization.py:212\u001b[0m, in \u001b[0;36m_open_file.__init__\u001b[1;34m(self, name, mode)\u001b[0m\n\u001b[0;32m    <a href='file:///c%3A/Users/Eachann/AppData/Local/Programs/Python/Python39/lib/site-packages/torch/serialization.py?line=210'>211</a>\u001b[0m \u001b[39mdef\u001b[39;00m \u001b[39m__init__\u001b[39m(\u001b[39mself\u001b[39m, name, mode):\n\u001b[1;32m--> <a href='file:///c%3A/Users/Eachann/AppData/Local/Programs/Python/Python39/lib/site-packages/torch/serialization.py?line=211'>212</a>\u001b[0m     \u001b[39msuper\u001b[39m(_open_file, \u001b[39mself\u001b[39m)\u001b[39m.\u001b[39m\u001b[39m__init__\u001b[39m(\u001b[39mopen\u001b[39;49m(name, mode))\n",
      "\u001b[1;31mOSError\u001b[0m: [Errno 22] Invalid argument: 'weights/<__main__.Dataset object at 0x000001B242C0FCD0>/netG_A2B.pth'"
     ]
    }
   ],
   "source": [
    "for epoch in range(num_epoch):\n",
    "    t1 = time.time()\n",
    "    progress = tqdm(enumerate(dataloader))\n",
    "    for idx,imgs in progress:\n",
    "        #Get data\n",
    "        real_A = imgs[\"A\"].to(device)\n",
    "        real_B = imgs[\"B\"].to(device)\n",
    "        batch_size_real = real_A.shape[0]\n",
    "        real_label = torch.ones(batch_size_real,1).type(torch.float32).to(device)\n",
    "        fake_label = torch.zeros(batch_size_real,1).type(torch.float32).to(device)\n",
    "        # Zero Generator grad\n",
    "        optimizer_G.zero_grad()\n",
    "        ########## Identity loss\n",
    "        identity_image_A = netG_B2A(real_A)\n",
    "        loss_identity_A = wgan_loss_iden(identity_image_A, real_A) * 5.0\n",
    "        identity_image_B = netG_A2B(real_B)\n",
    "        loss_identity_B = wgan_loss_iden(identity_image_B, real_B) * 5.0\n",
    "\n",
    "        ######### GAN loss\n",
    "        fake_image_A = netG_B2A(real_B)\n",
    "        fake_output_A = netD_A(fake_image_A)\n",
    "        loss_GAN_B2A = adv_loss(fake_output_A, real_label)\n",
    "        fake_image_B = netG_A2B(real_A)\n",
    "        fake_output_B = netD_B(fake_image_B)\n",
    "        loss_GAN_A2B = adv_loss(fake_output_B, real_label)\n",
    "\n",
    "        ###############Cycle loss\n",
    "        r_image_A = netG_B2A(fake_image_B)\n",
    "        loss_cycle_ABA = wgan_loss_cycle(r_image_A, real_A) * 10.0\n",
    "\n",
    "        r_image_B = netG_A2B(fake_image_A)\n",
    "        loss_cycle_BAB = wgan_loss_cycle(r_image_B, real_B) * 10.0\n",
    "\n",
    "        # Combined loss\n",
    "        errG = loss_identity_A + loss_identity_B + loss_GAN_A2B + loss_GAN_B2A + loss_cycle_ABA + loss_cycle_BAB\n",
    "\n",
    "        # Calculate gradients for G_A and G_B\n",
    "        errG.backward()\n",
    "        # Update G_A and G_B's weights\n",
    "        optimizer_G.step()\n",
    "        ######################## Discriminator A\n",
    "        optimizer_D_A.zero_grad()\n",
    "        real_output_A = netD_A(real_A)\n",
    "        errD_real_A = adv_loss(real_output_A, real_label)\n",
    "\n",
    "        fake_image_A = fake_A_buffer.push_and_pop(fake_image_A)\n",
    "        fake_output_A = netD_A(fake_image_A.detach())\n",
    "        errD_fake_A = adv_loss(fake_output_A, fake_label)\n",
    "\n",
    "        errD_A = (errD_real_A + errD_fake_A) / 2\n",
    "\n",
    "        errD_A.backward()\n",
    "        optimizer_D_A.step()\n",
    "\n",
    "        ######################## Discriminator B\n",
    "        optimizer_D_B.zero_grad()\n",
    "\n",
    "        real_output_B = netD_B(real_B)\n",
    "        errD_real_B = adv_loss(real_output_B, real_label)\n",
    "\n",
    "        fake_image_B = fake_B_buffer.push_and_pop(fake_image_B)\n",
    "        fake_output_B = netD_B(fake_image_B.detach())\n",
    "        errD_fake_B = adv_loss(fake_output_B, fake_label)\n",
    "\n",
    "        errD_B = (errD_real_B + errD_fake_B) / 2\n",
    "\n",
    "        errD_B.backward()\n",
    "        optimizer_D_B.step()\n",
    "        with torch.no_grad():\n",
    "            d_losses += [(errD_A + errD_B).item()]\n",
    "            g_losses += [errG.item()]\n",
    "            identity_losses += [(loss_identity_A + loss_identity_B).item()]\n",
    "            gan_losses += [(loss_GAN_A2B + loss_GAN_B2A).item()]\n",
    "            cycle_losses += [(loss_cycle_ABA + loss_cycle_BAB).item()]\n",
    "        progress.set_description(\n",
    "            f\"[{epoch}/{num_epoch - 1}][{idx}/{len(dataloader) - 1}] \"\n",
    "            f\"Loss_D: {(errD_A + errD_B).item():.4f} \"\n",
    "            f\"Loss_G: {errG.item():.4f} \"\n",
    "            f\"Loss_G_identity: {(loss_identity_A + loss_identity_B).item():.4f} \"\n",
    "            f\"loss_G_GAN: {(loss_GAN_A2B + loss_GAN_B2A).item():.4f} \"\n",
    "            f\"loss_G_cycle: {(loss_cycle_ABA + loss_cycle_BAB).item():.4f}\"\n",
    "            f'time{time.time()-t1}')\n",
    "            \n",
    "     # do check pointing\n",
    "    if epoch%10 == 10:\n",
    "        torch.save(netG_A2B.state_dict(), f\"weights/{dataset}/netG_A2B_epoch_{epoch}.pth\")\n",
    "        torch.save(netG_B2A.state_dict(), f\"weights/{dataset}/netG_B2A_epoch_{epoch}.pth\")\n",
    "        torch.save(netD_A.state_dict(), f\"weights/{dataset}/netD_A_epoch_{epoch}.pth\")\n",
    "        torch.save(netD_B.state_dict(), f\"weights/{dataset}/netD_B_epoch_{epoch}.pth\")\n",
    "# Update learning rates\n",
    "    lr_scheduler_G.step()\n",
    "    lr_scheduler_D_A.step()\n",
    "    lr_scheduler_D_B.step()\n",
    "np.save('g_losses.npy',g_losses)\n",
    "np.save('d_losses.npy',d_losses)\n",
    "np.save('identity_losses.npy',identity_losses)\n",
    "np.save('gan_losses.npy',gan_losses)\n",
    "np.save('cycle_losses.npy',cycle_losses)\n",
    "# save last check pointing\n",
    "torch.save(netG_A2B.state_dict(), f\"weights/{dataname}/netG_A2B.pth\")\n",
    "torch.save(netG_B2A.state_dict(), f\"weights/{dataname}/netG_B2A.pth\")\n",
    "torch.save(netD_A.state_dict(), f\"weights/{dataname}/netD_A.pth\")\n",
    "torch.save(netD_B.state_dict(), f\"weights/{dataname}/netD_B.pth\")\n"
   ]
  },
  {
   "cell_type": "code",
   "execution_count": 17,
   "id": "15cd10f7",
   "metadata": {},
   "outputs": [
    {
     "data": {
      "image/png": "[encoded data removed]",
      "text/plain": [
       "<Figure size 432x288 with 1 Axes>"
      ]
     },
     "metadata": {
      "needs_background": "light"
     },
     "output_type": "display_data"
    }
   ],
   "source": [
    "dataset = 'ukiless'\n",
    "torch.save(netG_A2B.state_dict(), f\"weights/{dataset}/netG_A2B.pth\")\n",
    "torch.save(netG_B2A.state_dict(), f\"weights/{dataset}/netG_B2A.pth\")\n",
    "torch.save(netD_A.state_dict(), f\"weights/{dataset}/netD_A.pth\")\n",
    "torch.save(netD_B.state_dict(), f\"weights/{dataset}/netD_B.pth\")\n",
    "plt.plot(g_losses)\n",
    "plt.show()"
   ]
  },
  {
   "cell_type": "code",
   "execution_count": 18,
   "id": "b03e892a",
   "metadata": {},
   "outputs": [
    {
     "data": {
      "image/png": "[encoded data removed]",
      "text/plain": [
       "<Figure size 432x288 with 1 Axes>"
      ]
     },
     "metadata": {
      "needs_background": "light"
     },
     "output_type": "display_data"
    }
   ],
   "source": [
    "plt.plot(d_losses)\n",
    "plt.show()"
   ]
  },
  {
   "cell_type": "code",
   "execution_count": 19,
   "id": "0d35a512",
   "metadata": {},
   "outputs": [
    {
     "data": {
      "image/png": "[encoded data removed]",
      "text/plain": [
       "<Figure size 432x288 with 1 Axes>"
      ]
     },
     "metadata": {
      "needs_background": "light"
     },
     "output_type": "display_data"
    }
   ],
   "source": [
    "plt.plot(identity_losses)\n",
    "plt.show()"
   ]
  },
  {
   "cell_type": "code",
   "execution_count": 20,
   "id": "1515ad4b",
   "metadata": {},
   "outputs": [
    {
     "data": {
      "image/png": "[encoded data removed]",
      "text/plain": [
       "<Figure size 432x288 with 1 Axes>"
      ]
     },
     "metadata": {
      "needs_background": "light"
     },
     "output_type": "display_data"
    }
   ],
   "source": [
    "plt.plot(gan_losses)\n",
    "plt.show()"
   ]
  },
  {
   "cell_type": "code",
   "execution_count": 21,
   "id": "39f3a40f",
   "metadata": {},
   "outputs": [
    {
     "data": {
      "image/png": "[encoded data removed]",
      "text/plain": [
       "<Figure size 432x288 with 1 Axes>"
      ]
     },
     "metadata": {
      "needs_background": "light"
     },
     "output_type": "display_data"
    }
   ],
   "source": [
    "plt.plot(cycle_losses)\n",
    "plt.show()"
   ]
  },
  {
   "cell_type": "code",
   "execution_count": null,
   "id": "6cc9c548",
   "metadata": {},
   "outputs": [],
   "source": []
  }
 ],
 "metadata": {
  "interpreter": {
   "hash": "f4199c13b508d82d4f0006079c77b28de888f4ee301ff64a5dbc5b165bd2d999"
  },
  "kernelspec": {
   "display_name": "Python 3.9.0 64-bit",
   "language": "python",
   "name": "python3"
  },
  "language_info": {
   "codemirror_mode": {
    "name": "ipython",
    "version": 3
   },
   "file_extension": ".py",
   "mimetype": "text/x-python",
   "name": "python",
   "nbconvert_exporter": "python",
   "pygments_lexer": "ipython3",
   "version": "3.9.0"
  }
 },
 "nbformat": 4,
 "nbformat_minor": 5
}
